{
 "cells": [
  {
   "cell_type": "code",
   "execution_count": 2,
   "id": "4ffb5fea-9e47-461c-964e-6b996b1be0a1",
   "metadata": {},
   "outputs": [],
   "source": [
    "import os\n",
    "import cv2\n",
    "import torch\n",
    "from PIL import Image\n",
    "from torch.utils.data import Dataset, DataLoader\n",
    "import albumentations as A\n",
    "from albumentations.pytorch import ToTensorV2\n",
    "import numpy as np\n",
    "from src.configuration.config import datadict, TrainingDir\n",
    "from src.Dataset.dataset import CustomDatasetHW, CustomDatasetHWD, CustomDataset, CustomDatasetHW_new, CustomDatasetHW_validation,CustomDatasetHW_3D\n",
    "from src.utils.losses import BCEDiceLoss, DiceLoss, GeneralizedDiceLoss, WeightedCrossEntropyLoss, WeightedSmoothL1Loss\n",
    "from src.configuration.config import IMAGE_HEIGHT, IMAGE_WIDTH,batch_size, num_workers, pin_memory, LEARNING_RATE\n",
    "from src.utils.utils import custom_collate, custom_collate_Variable_HW\n",
    "from src.Models.D_UNet import UNet3D,ResidualUNetSE3D"
   ]
  },
  {
   "cell_type": "code",
   "execution_count": 1,
   "id": "ef060479-2e12-4cf4-af68-b664b6a86f34",
   "metadata": {},
   "outputs": [],
   "source": [
    "import sys \n",
    "sys.path.append(r'C:\\Users\\Rishabh\\Documents\\3D_Unet_Bleed')"
   ]
  },
  {
   "cell_type": "code",
   "execution_count": 3,
   "id": "5cbb17b8-9d7e-43da-adff-7719b8c6ba16",
   "metadata": {},
   "outputs": [],
   "source": [
    "device = torch.device(\"cuda\" if torch.cuda.is_available() else \"cpu\")\n",
    "# DunetModel = UNet3D(in_channels=1, out_channels=1).to(device)\n",
    "DunetModel = ResidualUNetSE3D(in_channels=1, out_channels=1).to(device)\n",
    "# lossfun = GeneralizedDiceLoss()\n",
    "lossfun = GeneralizedDiceLoss()"
   ]
  },
  {
   "cell_type": "code",
   "execution_count": null,
   "id": "589f031e-940d-421e-9055-17e4ea6aca98",
   "metadata": {},
   "outputs": [],
   "source": [
    "TrainingDir = r'C:\\Users\\Rishabh\\Documents\\pytorch-3dunet\\TrainingData'\n",
    "ImagesDir = os.path.join(TrainingDir, 'Images')\n",
    "MasksDir = os.path.join(TrainingDir, 'Masks')\n",
    "dataset = CustomDatasetHW_3D(ImagesDir, MasksDir)\n",
    "\n",
    "train_loader = DataLoader(\n",
    "    dataset,\n",
    "    batch_size=batch_size,\n",
    "    num_workers=num_workers,\n",
    "    pin_memory=pin_memory,\n",
    "    shuffle=True,\n",
    "    collate_fn=custom_collate_Variable_HW,\n",
    ")"
   ]
  },
  {
   "cell_type": "code",
   "execution_count": null,
   "id": "aa5b0910-cbc3-47f1-b2dc-222b60c0174b",
   "metadata": {},
   "outputs": [],
   "source": [
    "inputs, targets = next(iter(train_loader))"
   ]
  },
  {
   "cell_type": "code",
   "execution_count": 4,
   "id": "9d51abd6-638a-4ffe-982b-4b0f8791c03e",
   "metadata": {},
   "outputs": [],
   "source": [
    "LEARNING_RATE = 0.0001"
   ]
  },
  {
   "cell_type": "code",
   "execution_count": 5,
   "id": "8cd0e75a-56f0-4d30-ab9f-57fdc61febb0",
   "metadata": {},
   "outputs": [
    {
     "name": "stderr",
     "output_type": "stream",
     "text": [
      "C:\\Users\\Rishabh\\AppData\\Local\\Temp\\ipykernel_19400\\2945504971.py:6: FutureWarning: `torch.cuda.amp.GradScaler(args...)` is deprecated. Please use `torch.amp.GradScaler('cuda', args...)` instead.\n",
      "  scaler = torch.cuda.amp.GradScaler()\n"
     ]
    }
   ],
   "source": [
    "import torch.optim as optim\n",
    "\n",
    "optimizer = optim.Adam(DunetModel.parameters(), lr=LEARNING_RATE)\n",
    "\n",
    "# Set up Automatic Mixed Precision (AMP)\n",
    "scaler = torch.cuda.amp.GradScaler()\n"
   ]
  },
  {
   "cell_type": "code",
   "execution_count": null,
   "id": "f027002e-4228-46d7-a70c-a132af46d385",
   "metadata": {},
   "outputs": [],
   "source": [
    "inputs = inputs[0,:,:,:,:]\n",
    "targets = targets[0,:,:,:,:]"
   ]
  },
  {
   "cell_type": "code",
   "execution_count": null,
   "id": "b58d70f0-5624-4c04-a919-7a8a384d119c",
   "metadata": {},
   "outputs": [],
   "source": [
    "inputs = inputs.unsqueeze(0)\n",
    "targets = targets.unsqueeze(0)"
   ]
  },
  {
   "cell_type": "code",
   "execution_count": null,
   "id": "66c4c5d7-40ff-4d3c-8685-c1527094f0e8",
   "metadata": {},
   "outputs": [],
   "source": [
    "1e-2"
   ]
  },
  {
   "cell_type": "code",
   "execution_count": null,
   "id": "8241c1a7-34f4-4bd2-af24-3bb9f2b2f5b4",
   "metadata": {},
   "outputs": [],
   "source": [
    "inputs = inputs[0,:,-8:,-16:,-16:]\n",
    "targets = targets[0,:,-8:,-16:,-16:]"
   ]
  },
  {
   "cell_type": "code",
   "execution_count": 10,
   "id": "c9ed46bc-d81e-40e9-be68-965abdc7f004",
   "metadata": {
    "scrolled": true
   },
   "outputs": [
    {
     "name": "stdout",
     "output_type": "stream",
     "text": [
      "(tensor([0, 1], dtype=torch.int32), tensor([65508,    28]))\n"
     ]
    }
   ],
   "source": [
    "import torch\n",
    "\n",
    "# Define shape\n",
    "shape = (1, 1, 16, 64, 64)\n",
    "\n",
    "# Tensor with random values\n",
    "inputs = torch.rand(shape)\n",
    "\n",
    "# Probability of 1 occurring is very low (e.g., 0.05)\n",
    "probability_of_one = 0.0005  \n",
    "targets = torch.bernoulli(torch.full(shape, probability_of_one)).to(torch.int)\n",
    "\n",
    "print(torch.unique(targets, return_counts=True))\n"
   ]
  },
  {
   "cell_type": "code",
   "execution_count": null,
   "id": "f89f1b6f-da86-44d5-acf0-f7f789579c29",
   "metadata": {
    "scrolled": true
   },
   "outputs": [
    {
     "name": "stderr",
     "output_type": "stream",
     "text": [
      "C:\\Users\\Rishabh\\AppData\\Local\\Temp\\ipykernel_19400\\2645584842.py:9: FutureWarning: `torch.cuda.amp.autocast(args...)` is deprecated. Please use `torch.amp.autocast('cuda', args...)` instead.\n",
      "  with torch.cuda.amp.autocast():\n"
     ]
    },
    {
     "name": "stdout",
     "output_type": "stream",
     "text": [
      "0.9991472363471985\n"
     ]
    }
   ],
   "source": [
    "DunetModel.train()\n",
    "for i in range(10000):\n",
    "    inputs = inputs.to(device)\n",
    "    targets = targets.to(device)\n",
    "    \n",
    "    optimizer.zero_grad()\n",
    "    \n",
    "    # Forward pass with mixed precisio/n\n",
    "    with torch.cuda.amp.autocast():\n",
    "        outputs = DunetModel(inputs)\n",
    "        loss = lossfun(outputs, targets)\n",
    "    \n",
    "    scaler.scale(loss).backward()\n",
    "    scaler.step(optimizer)\n",
    "    scaler.update()\n",
    "    if i%100 == 0:\n",
    "        print(loss.item())"
   ]
  },
  {
   "cell_type": "code",
   "execution_count": null,
   "id": "cdb6a759-b6d6-4293-abc0-33f285b2874d",
   "metadata": {},
   "outputs": [],
   "source": [
    "inputs.shape"
   ]
  },
  {
   "cell_type": "code",
   "execution_count": null,
   "id": "72ef7c4c-22b2-4f37-a560-da56f0cc54d5",
   "metadata": {},
   "outputs": [],
   "source": [
    "targets.shape"
   ]
  },
  {
   "cell_type": "code",
   "execution_count": null,
   "id": "2297d103-e7a1-436b-8e12-85dc53cec083",
   "metadata": {},
   "outputs": [],
   "source": [
    "inputs = np.array(inputs.cpu())\n"
   ]
  },
  {
   "cell_type": "code",
   "execution_count": null,
   "id": "a29d7a3e-82de-4538-9f16-81ed3e8df3bc",
   "metadata": {},
   "outputs": [],
   "source": [
    "targets = np.array(targets.cpu())"
   ]
  },
  {
   "cell_type": "code",
   "execution_count": null,
   "id": "48e3fce5-22d4-472d-8d77-f04ee4633485",
   "metadata": {},
   "outputs": [],
   "source": [
    "np.unique(inputs)"
   ]
  },
  {
   "cell_type": "code",
   "execution_count": null,
   "id": "833ac8a0-85c2-46f8-b377-526a3941911f",
   "metadata": {},
   "outputs": [],
   "source": [
    "np.unique(targets)"
   ]
  },
  {
   "cell_type": "code",
   "execution_count": null,
   "id": "1c6690eb-e4d4-4a65-a368-51fbc56169fe",
   "metadata": {},
   "outputs": [],
   "source": []
  }
 ],
 "metadata": {
  "kernelspec": {
   "display_name": "Python 3 (ipykernel)",
   "language": "python",
   "name": "python3"
  },
  "language_info": {
   "codemirror_mode": {
    "name": "ipython",
    "version": 3
   },
   "file_extension": ".py",
   "mimetype": "text/x-python",
   "name": "python",
   "nbconvert_exporter": "python",
   "pygments_lexer": "ipython3",
   "version": "3.11.11"
  }
 },
 "nbformat": 4,
 "nbformat_minor": 5
}
