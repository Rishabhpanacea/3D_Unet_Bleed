{
 "cells": [
  {
   "cell_type": "code",
   "execution_count": 2,
   "id": "31cd12a4-a5ae-4285-9123-9832e8b8c793",
   "metadata": {},
   "outputs": [],
   "source": [
    "import os\n",
    "import cv2\n",
    "import torch\n",
    "from PIL import Image\n",
    "from torch.utils.data import Dataset, DataLoader\n",
    "import albumentations as A\n",
    "from albumentations.pytorch import ToTensorV2\n",
    "import numpy as np\n",
    "from src.configuration.config import datadict, TrainingDir\n",
    "from src.Dataset.dataset import CustomDatasetHW, CustomDatasetHWD, CustomDataset, CustomDatasetHW_new, CustomDatasetHW_validation,CustomDatasetHW_3D\n",
    "from src.utils.losses import BCEDiceLoss, DiceLoss, GeneralizedDiceLoss, WeightedCrossEntropyLoss, WeightedSmoothL1Loss\n",
    "from src.configuration.config import IMAGE_HEIGHT, IMAGE_WIDTH,batch_size, num_workers, pin_memory, LEARNING_RATE\n",
    "from src.utils.utils import custom_collate, custom_collate_Variable_HW\n",
    "from src.Models.D_UNet import UNet3D,ResidualUNetSE3D"
   ]
  },
  {
   "cell_type": "code",
   "execution_count": 1,
   "id": "2236abe7-0885-47c5-89db-d21363a0a2be",
   "metadata": {},
   "outputs": [],
   "source": [
    "import sys \n",
    "sys.path.append(r'C:\\Users\\Rishabh\\Documents\\3D_Unet_Bleed')"
   ]
  },
  {
   "cell_type": "code",
   "execution_count": 3,
   "id": "d95c302c-8eed-4f41-a3dd-b007c657378e",
   "metadata": {},
   "outputs": [],
   "source": [
    "device = torch.device(\"cuda\" if torch.cuda.is_available() else \"cpu\")\n",
    "# DunetModel = UNet3D(in_channels=1, out_channels=1).to(device)\n",
    "# DunetModel = ResidualUNetSE3D(in_channels=1, out_channels=1).to(device)"
   ]
  },
  {
   "cell_type": "code",
   "execution_count": 5,
   "id": "21c7b37f-e315-4071-a732-cbdd3bbf6031",
   "metadata": {},
   "outputs": [
    {
     "name": "stdout",
     "output_type": "stream",
     "text": [
      "Total Parameters: 16318691\n",
      "Total Parameters: 117233866\n"
     ]
    }
   ],
   "source": [
    "DunetModel = UNet3D(in_channels=1, out_channels=1).to(device)\n",
    "total_params = sum(p.numel() for p in DunetModel.parameters())\n",
    "print(f\"Total Parameters: {total_params}\")\n",
    "DunetModel = ResidualUNetSE3D(in_channels=1, out_channels=1).to(device)\n",
    "total_params = sum(p.numel() for p in DunetModel.parameters())\n",
    "print(f\"Total Parameters: {total_params}\")\n",
    "# print(f\"Total Parameters: {total_params}\")"
   ]
  },
  {
   "cell_type": "code",
   "execution_count": null,
   "id": "af1277ef-3856-4064-bec0-b20fcdc717f7",
   "metadata": {
    "scrolled": true
   },
   "outputs": [],
   "source": [
    "# DunetModel = ResidualUNetSE3D(in_channels=1, out_channels=1, f_maps=16).to(device)\n",
    "# total_params = sum(p.numel() for p in DunetModel.parameters())\n",
    "# print(f\"Total Parameters 16: {total_params}\")\n",
    "# DunetModel = ResidualUNetSE3D(in_channels=1, out_channels=1, f_maps=32).to(device)\n",
    "# total_params = sum(p.numel() for p in DunetModel.parameters())\n",
    "# print(f\"Total Parameters 32: {total_params}\")\n",
    "# DunetModel = ResidualUNetSE3D(in_channels=1, out_channels=1, f_maps=64).to(device)\n",
    "# total_params = sum(p.numel() for p in DunetModel.parameters())\n",
    "# print(f\"Total Parameters 64: {total_params}\")\n",
    "# DunetModel = ResidualUNetSE3D(in_channels=1, out_channels=1, f_maps=128).to(device)\n",
    "# total_params = sum(p.numel() for p in DunetModel.parameters())\n",
    "# print(f\"Total Parameters 128: {total_params}\")\n",
    "DunetModel = ResidualUNetSE3D(in_channels=1, out_channels=1, f_maps=256).to(device)\n",
    "total_params = sum(p.numel() for p in DunetModel.parameters())\n",
    "print(f\"Total Parameters 256: {total_params}\")\n",
    "DunetModel = ResidualUNetSE3D(in_channels=1, out_channels=1, f_maps=512).to(device)\n",
    "total_params = sum(p.numel() for p in DunetModel.parameters())\n",
    "print(f\"Total Parameters 512: {total_params}\")\n",
    "DunetModel = ResidualUNetSE3D(in_channels=1, out_channels=1, f_maps=1024).to(device)\n",
    "total_params = sum(p.numel() for p in DunetModel.parameters())\n",
    "print(f\"Total Parameters 1024: {total_params}\")"
   ]
  },
  {
   "cell_type": "code",
   "execution_count": null,
   "id": "354dfd62-3c03-420f-81dc-0676c3031996",
   "metadata": {},
   "outputs": [],
   "source": [
    "3dUnet:-\n",
    "normal :- 16318691\n",
    "Total Parameters 16: 1021115\n",
    "Total Parameters 32: 4081267\n",
    "Total Parameters 64: 16318691\n",
    "Total Parameters 128: 65262019\n",
    "Total Parameters 256: 261022595\n",
    "\n",
    "ResidualUNetSE3D:-\n",
    "normal:- 117233866\n",
    "Total Parameters 16: 7331386\n",
    "Total Parameters 32: 29314154\n",
    "Total Parameters 64: 117233866\n",
    "Total Parameters 128: 468889994"
   ]
  },
  {
   "cell_type": "code",
   "execution_count": null,
   "id": "bd529ff0-c96d-4a6a-ae1a-e7ea0459460e",
   "metadata": {},
   "outputs": [],
   "source": [
    "DunetModel = ResidualUNetSE3D(in_channels=1, out_channels=1, f_maps = [16, 32, 64, 128, 256, 512, 1024]).to(device)\n",
    "total_params = sum(p.numel() for p in DunetModel.parameters())\n",
    "print(f\"Total Parameters: {total_params}\")"
   ]
  },
  {
   "cell_type": "code",
   "execution_count": null,
   "id": "9965a2f5-b9e1-4fba-9934-928d4fe8fc4a",
   "metadata": {},
   "outputs": [],
   "source": [
    "DunetModel = ResidualUNetSE3D(in_channels=1, out_channels=1, f_maps = [16, 32, 64, 128, 256, 512, 1024]).to(device)\n",
    "total_params = sum(p.numel() for p in DunetModel.parameters())\n",
    "print(f\"Total Parameters: {total_params}\")"
   ]
  },
  {
   "cell_type": "code",
   "execution_count": null,
   "id": "c6682a0a-be95-494b-a7bc-84f24bbd8401",
   "metadata": {},
   "outputs": [],
   "source": [
    "DunetModel = UNet3D(in_channels=1, out_channels=1, f_maps = 1024).to(device)\n",
    "total_params = sum(p.numel() for p in DunetModel.parameters())\n",
    "print(f\"Total Parameters: {total_params}\")"
   ]
  },
  {
   "cell_type": "code",
   "execution_count": null,
   "id": "0f254381-7b70-4012-b9fc-0b66be6baf6d",
   "metadata": {},
   "outputs": [],
   "source": [
    "66060099\n",
    "66059963\n",
    "264253115"
   ]
  }
 ],
 "metadata": {
  "kernelspec": {
   "display_name": "Python 3 (ipykernel)",
   "language": "python",
   "name": "python3"
  },
  "language_info": {
   "codemirror_mode": {
    "name": "ipython",
    "version": 3
   },
   "file_extension": ".py",
   "mimetype": "text/x-python",
   "name": "python",
   "nbconvert_exporter": "python",
   "pygments_lexer": "ipython3",
   "version": "3.11.11"
  }
 },
 "nbformat": 4,
 "nbformat_minor": 5
}
