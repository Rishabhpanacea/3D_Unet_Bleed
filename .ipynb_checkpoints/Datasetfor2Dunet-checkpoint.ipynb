{
 "cells": [
  {
   "cell_type": "code",
   "execution_count": 16,
   "id": "a55ccd24-a7a6-497f-8af3-578c021499a9",
   "metadata": {},
   "outputs": [],
   "source": [
    "import os\n",
    "import numpy as np\n",
    "from PIL import Image\n",
    "from torch.utils.data import Dataset, DataLoader\n",
    "from src.Models.D_UNet import UNet2D, ResidualUNet2D\n",
    "from src.configuration.config import datadict"
   ]
  },
  {
   "cell_type": "code",
   "execution_count": 24,
   "id": "77bbf616-9510-4834-96f4-d035c8a58034",
   "metadata": {},
   "outputs": [],
   "source": [
    "class CustomDataset2D(Dataset):\n",
    "    def __init__(self, image_dir, mask_dir, transform=None, datadict=datadict):\n",
    "        self.image_dir = image_dir\n",
    "        self.mask_dir = mask_dir\n",
    "        self.transform = transform\n",
    "        self.images = os.listdir(image_dir)\n",
    "        self.series = os.listdir(mask_dir)\n",
    "        self.datadict = datadict\n",
    "        reversed_dict = {v: k for k, v in datadict.items()}\n",
    "        self.reversed_dict = reversed_dict\n",
    "\n",
    "    def __len__(self):\n",
    "        return len(self.series)\n",
    "        \n",
    "    def __getitem__(self, index):\n",
    "        count = 0\n",
    "        for i in range(len(self.series)):\n",
    "            first_folder = os.listdir(os.path.join(self.mask_dir, self.series[i]))[0]\n",
    "            folder_path = os.path.join(self.mask_dir, self.series[i], first_folder)\n",
    "            series_length = len(os.listdir(folder_path))\n",
    "\n",
    "            if count+series_length > index:\n",
    "                self.series_index = i\n",
    "                index = (count+series_length)/index\n",
    "                index = index - 1\n",
    "                break\n",
    "            else:\n",
    "                count = count + series_length\n",
    "            \n",
    "        Maskvolume = []\n",
    "        ImageVolume = []\n",
    "        flag = 0\n",
    "        for key in range(len(self.reversed_dict.keys())):\n",
    "            catag = self.reversed_dict[key]\n",
    "            Maskcatgvolume = []\n",
    "            Masks = os.path.join(self.mask_dir, os.listdir(self.mask_dir)[self.series_index], catag)\n",
    "            MasksList = os.listdir(Masks)\n",
    "            MasksList = sorted(MasksList)\n",
    "            \n",
    "            for msk in MasksList:\n",
    "                pngMask = Image.open(os.path.join(Masks, msk))\n",
    "                pngMask = np.array(pngMask)\n",
    "                Maskcatgvolume.append(pngMask)\n",
    "        \n",
    "                if msk in self.images and flag == 0:\n",
    "                    pngimage = Image.open(os.path.join(self.image_dir ,msk))\n",
    "                    pngimage = np.array(pngimage)\n",
    "                    ImageVolume.append(pngimage)\n",
    "            flag = 1\n",
    "                    \n",
    "            Maskcatgvolume = np.stack(Maskcatgvolume, axis = 0)\n",
    "            Maskvolume.append(Maskcatgvolume)\n",
    "            \n",
    "        Maskvolume = np.stack(Maskvolume, axis = 0)\n",
    "        ImageVolume = np.stack(ImageVolume, axis = 0)\n",
    "        \n",
    "        newMaskVolume = []\n",
    "        for i in range(Maskvolume.shape[1]):\n",
    "            newMaskVolume.append(np.argmax(Maskvolume[:,i,:,:] , axis=0))\n",
    "        newMaskVolume = np.stack(newMaskVolume, axis=0)\n",
    "        \n",
    "        newMaskVolume[newMaskVolume>0] = -1\n",
    "        newMaskVolume[newMaskVolume == 0] = 1\n",
    "        newMaskVolume[newMaskVolume == -1] = 0\n",
    "        \n",
    "        for i in range(Maskvolume.shape[1]):\n",
    "            Maskvolume[0,i,:,:] = Maskvolume[0,i,:,:] + newMaskVolume[i,:,:]\n",
    "\n",
    "        return ImageVolume ,Maskvolume "
   ]
  },
  {
   "cell_type": "code",
   "execution_count": 25,
   "id": "98c53ea3-4a4f-49f0-b83a-bea874269f6c",
   "metadata": {},
   "outputs": [],
   "source": [
    "import os\n",
    "Dir = r\"C:\\Users\\Rishabh\\Documents\\pytorch-3dunet\\TrainingData\"\n",
    "image_dir = os.path.join(Dir, 'Images')\n",
    "mask_dir = os.path.join(Dir, 'Masks')\n",
    "data = CustomDataset2D(image_dir, mask_dir)"
   ]
  },
  {
   "cell_type": "code",
   "execution_count": 29,
   "id": "9c62ac1f-3663-47dd-a1e8-639138f79782",
   "metadata": {},
   "outputs": [],
   "source": [
    "ImageVolume ,Maskvolume  = data[5]"
   ]
  },
  {
   "cell_type": "code",
   "execution_count": 30,
   "id": "8154caba-fd8a-4888-8d62-42747fd15c4f",
   "metadata": {},
   "outputs": [
    {
     "data": {
      "text/plain": [
       "(155, 512, 512)"
      ]
     },
     "execution_count": 30,
     "metadata": {},
     "output_type": "execute_result"
    }
   ],
   "source": [
    "ImageVolume.shape"
   ]
  },
  {
   "cell_type": "code",
   "execution_count": 31,
   "id": "69a0e8c0-ba15-4660-b304-db20526e1b7a",
   "metadata": {},
   "outputs": [
    {
     "data": {
      "text/plain": [
       "(9, 155, 512, 512)"
      ]
     },
     "execution_count": 31,
     "metadata": {},
     "output_type": "execute_result"
    }
   ],
   "source": [
    "Maskvolume.shape"
   ]
  },
  {
   "cell_type": "code",
   "execution_count": null,
   "id": "a7372d87-8fe2-467c-b5b5-538a99fec740",
   "metadata": {},
   "outputs": [],
   "source": []
  }
 ],
 "metadata": {
  "kernelspec": {
   "display_name": "Python 3 (ipykernel)",
   "language": "python",
   "name": "python3"
  },
  "language_info": {
   "codemirror_mode": {
    "name": "ipython",
    "version": 3
   },
   "file_extension": ".py",
   "mimetype": "text/x-python",
   "name": "python",
   "nbconvert_exporter": "python",
   "pygments_lexer": "ipython3",
   "version": "3.11.11"
  }
 },
 "nbformat": 4,
 "nbformat_minor": 5
}
