{
 "cells": [
  {
   "cell_type": "code",
   "execution_count": 4,
   "id": "450c4da0-4421-4c78-af5b-1bd4a51c08fa",
   "metadata": {},
   "outputs": [],
   "source": [
    "import os\n",
    "import nibabel as nib\n",
    "import numpy as np"
   ]
  },
  {
   "cell_type": "code",
   "execution_count": 5,
   "id": "057e447c-d161-49fe-908f-98db4873a4b8",
   "metadata": {},
   "outputs": [],
   "source": [
    "TrainingDir = r\"C:\\Users\\Rishabh\\Downloads\\label_192\\label_192\"\n",
    "images_dir = os.path.join(TrainingDir, 'images')\n",
    "masks_dir = os.path.join(TrainingDir, 'ground truths')"
   ]
  },
  {
   "cell_type": "code",
   "execution_count": 6,
   "id": "a14b67e8-caa6-4cf3-ba47-b2ba9c2221e3",
   "metadata": {},
   "outputs": [
    {
     "data": {
      "text/plain": [
       "['ground truths', 'images']"
      ]
     },
     "execution_count": 6,
     "metadata": {},
     "output_type": "execute_result"
    }
   ],
   "source": [
    "os.listdir(TrainingDir)"
   ]
  },
  {
   "cell_type": "code",
   "execution_count": 7,
   "id": "7abb6443-dc19-4889-8d9d-fa0958c778d0",
   "metadata": {},
   "outputs": [
    {
     "ename": "NameError",
     "evalue": "name 'images' is not defined",
     "output_type": "error",
     "traceback": [
      "\u001b[31m---------------------------------------------------------------------------\u001b[39m",
      "\u001b[31mNameError\u001b[39m                                 Traceback (most recent call last)",
      "\u001b[36mCell\u001b[39m\u001b[36m \u001b[39m\u001b[32mIn[7]\u001b[39m\u001b[32m, line 1\u001b[39m\n\u001b[32m----> \u001b[39m\u001b[32m1\u001b[39m \u001b[38;5;28;01mfor\u001b[39;00m index \u001b[38;5;129;01min\u001b[39;00m \u001b[38;5;28mrange\u001b[39m(\u001b[38;5;28mlen\u001b[39m(os.listdir(\u001b[43mimages\u001b[49m))):\n\u001b[32m      2\u001b[39m     nii_segementation = nib.load(os.path.join(masks_dir, os.listdir(masks_dir)[index]))\n\u001b[32m      3\u001b[39m     nii_image = nib.load(os.path.join(images_dir, os.listdir(images_dir)[index]))\n",
      "\u001b[31mNameError\u001b[39m: name 'images' is not defined"
     ]
    }
   ],
   "source": [
    "for index in range(len(os.listdir(images))):\n",
    "    nii_segementation = nib.load(os.path.join(masks_dir, os.listdir(masks_dir)[index]))\n",
    "    nii_image = nib.load(os.path.join(images_dir, os.listdir(images_dir)[index]))\n",
    "    \n",
    "    # Get the image data as a NumPy array\n",
    "    image_data = nii_image.get_fdata()\n",
    "    segementation_data = nii_segementation.get_fdata()"
   ]
  },
  {
   "cell_type": "code",
   "execution_count": 16,
   "id": "1f90617e-f1c2-4da3-bb7f-44671e7d19cb",
   "metadata": {},
   "outputs": [],
   "source": [
    "index = 3\n",
    "nii_image_path = os.path.join(images_dir, os.listdir(images_dir)[index])\n",
    "nii_segementation_path = os.path.join(masks_dir, os.listdir(masks_dir)[index])\n",
    "nii_segementation = nib.load(nii_segementation_path)\n",
    "nii_image = nib.load(nii_image_path)\n",
    "\n",
    "# Get the image data as a NumPy array\n",
    "image_data = nii_image.get_fdata()\n",
    "segementation_data = nii_segementation.get_fdata()"
   ]
  },
  {
   "cell_type": "code",
   "execution_count": 17,
   "id": "8ff27554-5474-4a9d-9fb1-00a4ef2dfd80",
   "metadata": {},
   "outputs": [
    {
     "data": {
      "text/plain": [
       "((512, 512, 31), (512, 512, 31))"
      ]
     },
     "execution_count": 17,
     "metadata": {},
     "output_type": "execute_result"
    }
   ],
   "source": [
    "image_data.shape, segementation_data.shape"
   ]
  },
  {
   "cell_type": "code",
   "execution_count": 18,
   "id": "4e433064-503d-4be2-ac84-8a0f99ead4da",
   "metadata": {},
   "outputs": [],
   "source": [
    "from monai.transforms import Spacing\n",
    "import torch"
   ]
  },
  {
   "cell_type": "code",
   "execution_count": 19,
   "id": "1e8aeaf6-0901-46fb-874a-0d62dd5c9bb8",
   "metadata": {},
   "outputs": [],
   "source": [
    "original_depth = image_data.shape[2]\n",
    "target_depth = 64\n",
    "spacing_transform = Spacing(pixdim=(1.0, 1.0, original_depth / target_depth), mode=\"bilinear\")"
   ]
  },
  {
   "cell_type": "code",
   "execution_count": 21,
   "id": "81b7cfd7-925a-48a7-8e23-a5ec1a22c440",
   "metadata": {},
   "outputs": [],
   "source": [
    "ct_tensor = torch.tensor(image_data).unsqueeze(0).unsqueeze(0)"
   ]
  },
  {
   "cell_type": "code",
   "execution_count": 22,
   "id": "5cb167b4-3509-4827-947e-78e75f7019a0",
   "metadata": {},
   "outputs": [
    {
     "name": "stderr",
     "output_type": "stream",
     "text": [
      "C:\\Users\\Rishabh\\anaconda3\\envs\\monai_env\\Lib\\site-packages\\monai\\transforms\\spatial\\array.py:497: UserWarning: `data_array` is not of type MetaTensor, assuming affine to be identity.\n",
      "  warnings.warn(\"`data_array` is not of type MetaTensor, assuming affine to be identity.\")\n"
     ]
    }
   ],
   "source": [
    "resampled_ct = spacing_transform(ct_tensor)"
   ]
  },
  {
   "cell_type": "code",
   "execution_count": 23,
   "id": "cb2d7fb4-4c13-40e0-93d9-3a85d62b26ab",
   "metadata": {},
   "outputs": [],
   "source": [
    "resampled_ct = resampled_ct.squeeze().numpy()"
   ]
  },
  {
   "cell_type": "code",
   "execution_count": 24,
   "id": "8a82195d-9adc-468a-9fe9-4e37ff3cf4d1",
   "metadata": {},
   "outputs": [
    {
     "data": {
      "text/plain": [
       "(512, 1056, 31)"
      ]
     },
     "execution_count": 24,
     "metadata": {},
     "output_type": "execute_result"
    }
   ],
   "source": [
    "resampled_ct.shape"
   ]
  },
  {
   "cell_type": "code",
   "execution_count": null,
   "id": "dcc0bd62-e644-4ed6-a783-0ea52dffc700",
   "metadata": {},
   "outputs": [],
   "source": []
  }
 ],
 "metadata": {
  "kernelspec": {
   "display_name": "Python 3 (ipykernel)",
   "language": "python",
   "name": "python3"
  },
  "language_info": {
   "codemirror_mode": {
    "name": "ipython",
    "version": 3
   },
   "file_extension": ".py",
   "mimetype": "text/x-python",
   "name": "python",
   "nbconvert_exporter": "python",
   "pygments_lexer": "ipython3",
   "version": "3.11.11"
  }
 },
 "nbformat": 4,
 "nbformat_minor": 5
}
