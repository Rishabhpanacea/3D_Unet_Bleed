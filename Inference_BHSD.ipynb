{
 "cells": [
  {
   "cell_type": "code",
   "execution_count": 1,
   "id": "9ea6e465-725b-4a34-93bc-09de5d679bf8",
   "metadata": {},
   "outputs": [
    {
     "ename": "SyntaxError",
     "evalue": "invalid decimal literal (dataset.py, line 983)",
     "output_type": "error",
     "traceback": [
      "Traceback \u001b[36m(most recent call last)\u001b[39m:\n",
      "  File \u001b[92m~\\anaconda3\\envs\\3D_Unet_Bleed\\Lib\\site-packages\\IPython\\core\\interactiveshell.py:3549\u001b[39m in \u001b[95mrun_code\u001b[39m\n    exec(code_obj, self.user_global_ns, self.user_ns)\n",
      "\u001b[36m  \u001b[39m\u001b[36mCell\u001b[39m\u001b[36m \u001b[39m\u001b[32mIn[1]\u001b[39m\u001b[32m, line 3\u001b[39m\n\u001b[31m    \u001b[39m\u001b[31mfrom src.Dataset.dataset import BHSD_3D\u001b[39m\n",
      "  \u001b[36mFile \u001b[39m\u001b[32m~\\Documents\\3D_Unet_Bleed\\src\\Dataset\\dataset.py:983\u001b[39m\n\u001b[31m    \u001b[39m\u001b[31m>>>>>>> 46387d1065ddc2f3c8720d30fc7541dba159578d\u001b[39m\n                ^\n\u001b[31mSyntaxError\u001b[39m\u001b[31m:\u001b[39m invalid decimal literal\n"
     ]
    }
   ],
   "source": [
    "import os\n",
    "import torch\n",
    "from src.Dataset.dataset import BHSD_3D\n",
    "import albumentations as A\n",
    "from albumentations.pytorch import ToTensorV2"
   ]
  },
  {
   "cell_type": "code",
   "execution_count": null,
   "id": "2a468449-9a80-4cbe-baff-48ce228e4a3d",
   "metadata": {},
   "outputs": [],
   "source": [
    "train_transform = A.Compose(\n",
    "    [\n",
    "        A.Normalize(\n",
    "            mean=[0.0, 0.0, 0.0],\n",
    "            std=[1.0, 1.0, 1.0],\n",
    "            max_pixel_value=255.0,\n",
    "        ),\n",
    "        ToTensorV2(),\n",
    "    ],\n",
    ")"
   ]
  },
  {
   "cell_type": "code",
   "execution_count": null,
   "id": "0bde3a9f-a3c1-4bb1-ba3b-98d864012375",
   "metadata": {},
   "outputs": [],
   "source": [
    "TrainingDir = r\"C:\\Users\\Rishabh\\Downloads\\label_192\\label_192\"\n",
    "mask_dir = os.path.join(TrainingDir, 'ground truths')\n",
    "image_dir = os.path.join(TrainingDir, 'images')\n",
    "dataset = BHSD_3D(image_dir, mask_dir, transform=train_transform)"
   ]
  },
  {
   "cell_type": "code",
   "execution_count": 3,
   "id": "f8304543-076c-470a-b619-d938885d2ac6",
   "metadata": {},
   "outputs": [],
   "source": [
    "checpointPath = r'C:\\Users\\Rishabh\\Documents\\3D_Unet_Bleed\\model_checkpoint.pth'"
   ]
  },
  {
   "cell_type": "code",
   "execution_count": null,
   "id": "bad39923-c7fa-4886-a38e-0b32a9a8d665",
   "metadata": {},
   "outputs": [],
   "source": [
    "device = torch.device(\"cuda\" if torch.cuda.is_available() else \"cpu\")\n",
    "\n",
    "# Initialize model and loss function\n",
    "model = UNet3D(in_channels=1, out_channels=1).to(device)"
   ]
  }
 ],
 "metadata": {
  "kernelspec": {
   "display_name": "Python 3 (ipykernel)",
   "language": "python",
   "name": "python3"
  },
  "language_info": {
   "codemirror_mode": {
    "name": "ipython",
    "version": 3
   },
   "file_extension": ".py",
   "mimetype": "text/x-python",
   "name": "python",
   "nbconvert_exporter": "python",
   "pygments_lexer": "ipython3",
   "version": "3.11.11"
  }
 },
 "nbformat": 4,
 "nbformat_minor": 5
}
