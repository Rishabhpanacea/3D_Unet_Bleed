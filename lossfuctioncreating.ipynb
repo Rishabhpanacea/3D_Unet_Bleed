{
 "cells": [
  {
   "cell_type": "code",
   "execution_count": 18,
   "id": "f3cdc25b-ef2f-4224-8a6b-a6983b1aa4e2",
   "metadata": {},
   "outputs": [],
   "source": [
    "import torch\n",
    "from torch.nn import functional as F\n",
    "# Assuming GeneralizedDiceLoss is already defined in your script\n",
    "from src.utils.losses import BCEDiceLoss, DiceLoss, GeneralizedDiceLoss, WeightedCrossEntropyLoss, WeightedSmoothL1Loss"
   ]
  },
  {
   "cell_type": "code",
   "execution_count": 19,
   "id": "5641edea-be30-47e1-a2d0-b884ec086a6d",
   "metadata": {},
   "outputs": [],
   "source": [
    "loss_fn = GeneralizedDiceLoss(normalization='none')  # or 'softmax'\n"
   ]
  },
  {
   "cell_type": "code",
   "execution_count": 20,
   "id": "330c562c-9aaf-4635-bfc1-6fdb4add1ed7",
   "metadata": {},
   "outputs": [],
   "source": [
    "# Example: Assume we have batch_size=2, num_classes=3, height=4, width=4\n",
    "batch_size, num_classes, height, width = 2, 3, 4, 4\n",
    "\n",
    "# Simulating raw model outputs (logits before softmax/sigmoid)\n",
    "input_tensor = torch.randn(batch_size, num_classes, height, width)\n",
    "\n",
    "# Creating a target tensor (random one-hot encoded labels)\n",
    "target_tensor = torch.randint(0, num_classes, (batch_size, height, width))\n",
    "target_one_hot = F.one_hot(target_tensor, num_classes).permute(0, 3, 1, 2).float()\n",
    "\n",
    "# Move to GPU if available\n",
    "device = torch.device(\"cuda\" if torch.cuda.is_available() else \"cpu\")\n",
    "input_tensor, target_one_hot = input_tensor.to(device), target_one_hot.to(device)\n",
    "loss_fn = loss_fn.to(device)\n"
   ]
  },
  {
   "cell_type": "code",
   "execution_count": 21,
   "id": "40b30a14-8545-4c7d-9c41-146b779692e8",
   "metadata": {},
   "outputs": [
    {
     "name": "stdout",
     "output_type": "stream",
     "text": [
      "Generalized Dice Loss: -124.54816436767578\n"
     ]
    }
   ],
   "source": [
    "loss_value = loss_fn(input_tensor, input_tensor)\n",
    "print(\"Generalized Dice Loss:\", loss_value.item())\n"
   ]
  },
  {
   "cell_type": "code",
   "execution_count": 22,
   "id": "82c19016-1417-4ffb-af06-d8959cfb224c",
   "metadata": {},
   "outputs": [
    {
     "name": "stdout",
     "output_type": "stream",
     "text": [
      "Generalized Dice Loss: 0.0\n"
     ]
    }
   ],
   "source": [
    "loss_value = loss_fn(target_one_hot, target_one_hot)\n",
    "print(\"Generalized Dice Loss:\", loss_value.item())"
   ]
  },
  {
   "cell_type": "code",
   "execution_count": null,
   "id": "2f16fb87-e22d-409c-88f3-1f29f8d2944d",
   "metadata": {},
   "outputs": [],
   "source": []
  }
 ],
 "metadata": {
  "kernelspec": {
   "display_name": "Python 3 (ipykernel)",
   "language": "python",
   "name": "python3"
  },
  "language_info": {
   "codemirror_mode": {
    "name": "ipython",
    "version": 3
   },
   "file_extension": ".py",
   "mimetype": "text/x-python",
   "name": "python",
   "nbconvert_exporter": "python",
   "pygments_lexer": "ipython3",
   "version": "3.11.11"
  }
 },
 "nbformat": 4,
 "nbformat_minor": 5
}
