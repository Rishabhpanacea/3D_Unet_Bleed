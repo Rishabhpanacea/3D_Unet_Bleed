{
 "cells": [
  {
   "cell_type": "code",
   "execution_count": 66,
   "id": "41de05fe-3d75-4808-aad2-7066221eb2df",
   "metadata": {},
   "outputs": [],
   "source": [
    "import os\n",
    "import cv2\n",
    "import torch\n",
    "from PIL import Image\n",
    "from torch.utils.data import Dataset, DataLoader\n",
    "import numpy as np\n",
    "from src.configuration.config import datadict, TrainingDir\n",
    "\n",
    "class CustomDatasetHWD(Dataset):\n",
    "    def __init__(self, image_dir, mask_dir, transform=None, datadict=datadict,  output_size=(256, 256), output_depth=5):\n",
    "        self.image_dir = image_dir\n",
    "        self.mask_dir = mask_dir\n",
    "        self.transform = transform\n",
    "        self.images = os.listdir(image_dir)\n",
    "        self.series = os.listdir(mask_dir)\n",
    "        self.datadict = datadict\n",
    "        reversed_dict = {v: k for k, v in datadict.items()}\n",
    "        self.reversed_dict = reversed_dict\n",
    "\n",
    "        self.output_size = output_size  # (H, W)\n",
    "        self.output_depth = output_depth  # New Depth\n",
    "\n",
    "    def __len__(self):\n",
    "        return len(self.series)\n",
    "\n",
    "\n",
    "    def resize_volume(self, volume, new_depth):\n",
    "        \"\"\"Resize depth using linear interpolation.\"\"\"\n",
    "        d, h, w = volume.shape\n",
    "        resized_volume = np.zeros((new_depth, h, w), dtype=volume.dtype)\n",
    "\n",
    "        for i in range(new_depth):\n",
    "            orig_idx = int(i * (d / new_depth))  # Interpolation\n",
    "            resized_volume[i] = volume[orig_idx]\n",
    "\n",
    "        return resized_volume\n",
    "\n",
    "    def __getitem__(self, index):\n",
    "        Maskvolume = []\n",
    "        ImageVolume = []\n",
    "        print(self.series[index])\n",
    "        flag = 0\n",
    "        for key in range(len(self.reversed_dict.keys())):\n",
    "            catag = self.reversed_dict[key]\n",
    "            Maskcatgvolume = []\n",
    "            Masks = os.path.join(self.mask_dir, os.listdir(self.mask_dir)[index], catag)\n",
    "            MasksList = os.listdir(Masks)\n",
    "            MasksList = sorted(MasksList)\n",
    "            \n",
    "            for msk in MasksList:\n",
    "                pngMask = Image.open(os.path.join(Masks, msk))\n",
    "                pngMask = np.array(pngMask)\n",
    "                Maskcatgvolume.append(pngMask)\n",
    "    \n",
    "                if msk in self.images and flag == 0:\n",
    "                    pngimage = Image.open(os.path.join(self.image_dir ,msk))\n",
    "                    pngimage = np.array(pngimage)\n",
    "                    ImageVolume.append(pngimage)\n",
    "            flag = 1\n",
    "                    \n",
    "            Maskcatgvolume = np.stack(Maskcatgvolume, axis = 0)\n",
    "            Maskvolume.append(Maskcatgvolume)\n",
    "            \n",
    "        Maskvolume = np.stack(Maskvolume, axis = 0)\n",
    "        ImageVolume = np.stack(ImageVolume, axis = 0)\n",
    "        ImageVolume = np.expand_dims(ImageVolume, axis=0)\n",
    "        newMaskVolume = []\n",
    "        for i in range(Maskvolume.shape[1]):\n",
    "            newMaskVolume.append(np.argmax(Maskvolume[:,i,:,:] , axis=0))\n",
    "        newMaskVolume = np.stack(newMaskVolume, axis=0)\n",
    "        newMaskVolume = np.expand_dims(newMaskVolume, axis=0)\n",
    "\n",
    "\n",
    "\n",
    "        \n",
    "\n",
    "        resized_images = np.array([cv2.resize(img, self.output_size, interpolation=cv2.INTER_LINEAR) for img in ImageVolume[0]])\n",
    "        resized_masks = np.array([cv2.resize(mask, self.output_size, interpolation=cv2.INTER_NEAREST) for mask in newMaskVolume[0]])\n",
    "\n",
    "        # Resize Depth\n",
    "        resized_images = self.resize_volume(resized_images, self.output_depth)  # (New D, H, W)\n",
    "        resized_masks = self.resize_volume(resized_masks, self.output_depth)  # (New D, H, W)\n",
    "\n",
    "        return torch.tensor(resized_images).unsqueeze(0), torch.tensor(resized_masks).unsqueeze(0)\n",
    "\n",
    "\n",
    "        # return ImageVolume, newMaskVolume"
   ]
  },
  {
   "cell_type": "code",
   "execution_count": 65,
   "id": "efc38b35-9b93-4cb6-89d4-d1153cbe7fff",
   "metadata": {},
   "outputs": [
    {
     "name": "stdout",
     "output_type": "stream",
     "text": [
      "['Images', 'Masks']\n"
     ]
    }
   ],
   "source": [
    "ImagesDir = os.path.join(TrainingDir, 'Images')\n",
    "MasksDir = os.path.join(TrainingDir, 'Masks')\n",
    "print(os.listdir(TrainingDir))\n",
    "data = CustomDataset(ImagesDir, MasksDir)"
   ]
  },
  {
   "cell_type": "code",
   "execution_count": 63,
   "id": "d56eb6e8-8b52-420d-90c4-b98b89a80bb2",
   "metadata": {},
   "outputs": [
    {
     "name": "stdout",
     "output_type": "stream",
     "text": [
      "1.2.826.0.1.3680043.10.511.3.50319555245010760304192407653470925\n",
      "[0]\n",
      "2.25.216239243324311492486775007119878849305\n",
      "[0]\n",
      "2.25.255390386701589077552528917500107662799\n",
      "[0 6 8]\n",
      "2.25.327971212165492878990090645563463447694\n",
      "[0]\n",
      "2.25.387503757565414440314154621408994040708\n",
      "[0]\n",
      "2.25.812609565055494479265790573472977615559\n",
      "[0 6]\n",
      "2.25.874750920676985942236560559012010376830\n",
      "[0 8]\n",
      "2.25.963853606161210352739966258030989557592\n",
      "[0 5]\n"
     ]
    }
   ],
   "source": [
    "for i in range(len(data)):\n",
    "    ImageVolume, Maskvolume = data[i]\n",
    "    print(np.unique(Maskvolume))\n",
    "    "
   ]
  },
  {
   "cell_type": "code",
   "execution_count": 67,
   "id": "49ef2f0e-ef58-4112-8a3d-1b7fc5c88fb5",
   "metadata": {},
   "outputs": [
    {
     "name": "stdout",
     "output_type": "stream",
     "text": [
      "1.2.826.0.1.3680043.10.511.3.50319555245010760304192407653470925\n"
     ]
    },
    {
     "name": "stderr",
     "output_type": "stream",
     "text": [
      "C:\\Users\\Rishabh\\AppData\\Local\\Temp\\ipykernel_16168\\1032382078.py:3: DeprecationWarning: __array__ implementation doesn't accept a copy keyword, so passing copy=False failed. __array__ must implement 'dtype' and 'copy' keyword arguments.\n",
      "  ImageVolume = np.array(ImageVolume)\n",
      "C:\\Users\\Rishabh\\AppData\\Local\\Temp\\ipykernel_16168\\1032382078.py:4: DeprecationWarning: __array__ implementation doesn't accept a copy keyword, so passing copy=False failed. __array__ must implement 'dtype' and 'copy' keyword arguments.\n",
      "  Maskvolume = np.array(Maskvolume)\n"
     ]
    },
    {
     "name": "stdout",
     "output_type": "stream",
     "text": [
      "[0]\n",
      "2.25.216239243324311492486775007119878849305\n",
      "[0]\n",
      "2.25.255390386701589077552528917500107662799\n",
      "[0 6 8]\n",
      "2.25.327971212165492878990090645563463447694\n",
      "[0]\n",
      "2.25.387503757565414440314154621408994040708\n",
      "[0]\n",
      "2.25.812609565055494479265790573472977615559\n",
      "[0 6]\n",
      "2.25.874750920676985942236560559012010376830\n",
      "[0 8]\n",
      "2.25.963853606161210352739966258030989557592\n",
      "[0 5]\n"
     ]
    }
   ],
   "source": [
    "for i in range(len(data)):\n",
    "    ImageVolume, Maskvolume = data[i]\n",
    "    ImageVolume = np.array(ImageVolume)\n",
    "    Maskvolume = np.array(Maskvolume)\n",
    "    print(np.unique(Maskvolume))"
   ]
  },
  {
   "cell_type": "code",
   "execution_count": 58,
   "id": "6f0371e2-eb02-4a15-8bab-3179702bcafe",
   "metadata": {},
   "outputs": [
    {
     "name": "stdout",
     "output_type": "stream",
     "text": [
      "2.25.255390386701589077552528917500107662799\n"
     ]
    },
    {
     "name": "stderr",
     "output_type": "stream",
     "text": [
      "C:\\Users\\Rishabh\\AppData\\Local\\Temp\\ipykernel_16168\\1453339417.py:2: DeprecationWarning: __array__ implementation doesn't accept a copy keyword, so passing copy=False failed. __array__ must implement 'dtype' and 'copy' keyword arguments.\n",
      "  ImageVolume = np.array(ImageVolume)\n",
      "C:\\Users\\Rishabh\\AppData\\Local\\Temp\\ipykernel_16168\\1453339417.py:3: DeprecationWarning: __array__ implementation doesn't accept a copy keyword, so passing copy=False failed. __array__ must implement 'dtype' and 'copy' keyword arguments.\n",
      "  Maskvolume = np.array(Maskvolume)\n"
     ]
    }
   ],
   "source": [
    "ImageVolume, Maskvolume = data[2]\n",
    "ImageVolume = np.array(ImageVolume)\n",
    "Maskvolume = np.array(Maskvolume)"
   ]
  },
  {
   "cell_type": "code",
   "execution_count": 59,
   "id": "155cb850-099e-4ee8-aebb-64f08aee0795",
   "metadata": {},
   "outputs": [
    {
     "data": {
      "text/plain": [
       "array([0, 6, 8], dtype=int32)"
      ]
     },
     "execution_count": 59,
     "metadata": {},
     "output_type": "execute_result"
    }
   ],
   "source": [
    "np.unique(Maskvolume)"
   ]
  },
  {
   "cell_type": "code",
   "execution_count": 54,
   "id": "a364dad8-ca06-4454-a7e1-9d7aa0c936bc",
   "metadata": {},
   "outputs": [
    {
     "data": {
      "text/plain": [
       "(torch.Size([1, 5, 256, 256]), torch.Size([1, 5, 256, 256]))"
      ]
     },
     "execution_count": 54,
     "metadata": {},
     "output_type": "execute_result"
    }
   ],
   "source": [
    "ImageVolume.shape , Maskvolume.shape"
   ]
  },
  {
   "cell_type": "code",
   "execution_count": null,
   "id": "acb47712-a143-43f7-a0a7-27cc0679c1bc",
   "metadata": {},
   "outputs": [],
   "source": []
  },
  {
   "cell_type": "code",
   "execution_count": null,
   "id": "38ff3082-7409-46a8-b778-37b7c28b96eb",
   "metadata": {},
   "outputs": [],
   "source": [
    "ImageVolume.shape"
   ]
  },
  {
   "cell_type": "code",
   "execution_count": 3,
   "id": "4a73c876-b720-4ef4-975b-d7478141b624",
   "metadata": {},
   "outputs": [],
   "source": [
    "from src.Models.D_UNet import UNet3D\n",
    "device = torch.device(\"cuda\" if torch.cuda.is_available() else \"cpu\")\n",
    "DunetModel = UNet3D(in_channels=1, out_channels=1).to(device)"
   ]
  },
  {
   "cell_type": "code",
   "execution_count": 16,
   "id": "a91b85aa-6d80-47bb-a17d-4a3763e7b131",
   "metadata": {},
   "outputs": [],
   "source": [
    "import torch\n",
    "\n",
    "# Create a tensor of shape (1, 1, 2, 16, 16) filled with random values\n",
    "ImageVolume = torch.rand(2, 1, 12, 64, 64)\n",
    "\n",
    "torch.cuda.empty_cache()\n"
   ]
  },
  {
   "cell_type": "code",
   "execution_count": 17,
   "id": "40af931d-bca0-4be3-895c-7a5e7903530d",
   "metadata": {},
   "outputs": [],
   "source": [
    "import torch\n",
    "\n",
    "# Convert NumPy array to PyTorch tensor\n",
    "# ImageVolume = torch.tensor(ImageVolume, dtype=torch.float32)\n",
    "\n",
    "# Move to GPU if available\n",
    "if torch.cuda.is_available():\n",
    "    ImageVolume = ImageVolume.cuda()\n",
    "\n",
    "with torch.no_grad():\n",
    "    output = DunetModel(ImageVolume)\n"
   ]
  },
  {
   "cell_type": "code",
   "execution_count": 18,
   "id": "928e915c-945f-4b06-87a2-dd8423e42e2e",
   "metadata": {},
   "outputs": [
    {
     "data": {
      "text/plain": [
       "torch.Size([2, 1, 12, 64, 64])"
      ]
     },
     "execution_count": 18,
     "metadata": {},
     "output_type": "execute_result"
    }
   ],
   "source": [
    "output.shape"
   ]
  },
  {
   "cell_type": "code",
   "execution_count": null,
   "id": "07a3710d-2e59-4dcf-9c25-658f1f490279",
   "metadata": {},
   "outputs": [],
   "source": [
    "ImageVolume, Maskvolume = data[1]"
   ]
  },
  {
   "cell_type": "code",
   "execution_count": null,
   "id": "302326ab-eda9-4a9a-942d-e52e74c4b883",
   "metadata": {},
   "outputs": [],
   "source": [
    "ImageVolume.shape"
   ]
  },
  {
   "cell_type": "code",
   "execution_count": null,
   "id": "ba4b7283-897b-42d0-83ca-057a2aab2414",
   "metadata": {},
   "outputs": [],
   "source": [
    "Maskvolume.shape"
   ]
  },
  {
   "cell_type": "code",
   "execution_count": null,
   "id": "16239f91-3ae8-42f8-aa7a-438f2cd9947c",
   "metadata": {},
   "outputs": [],
   "source": [
    "np.argmax(Maskvolume[:,1,:,:] , axis=0).shape"
   ]
  },
  {
   "cell_type": "code",
   "execution_count": null,
   "id": "ad33fb19-fbd2-4ebd-92ea-639c0b8cec99",
   "metadata": {},
   "outputs": [],
   "source": []
  }
 ],
 "metadata": {
  "kernelspec": {
   "display_name": "Python 3 (ipykernel)",
   "language": "python",
   "name": "python3"
  },
  "language_info": {
   "codemirror_mode": {
    "name": "ipython",
    "version": 3
   },
   "file_extension": ".py",
   "mimetype": "text/x-python",
   "name": "python",
   "nbconvert_exporter": "python",
   "pygments_lexer": "ipython3",
   "version": "3.11.11"
  }
 },
 "nbformat": 4,
 "nbformat_minor": 5
}
